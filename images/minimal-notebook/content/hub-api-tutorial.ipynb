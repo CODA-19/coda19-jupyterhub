{
 "cells": [
  {
   "cell_type": "markdown",
   "id": "6638c247-9186-4601-9a39-373e4e3e03bb",
   "metadata": {},
   "source": [
    "# Jupyter Hub-Api tutorial"
   ]
  },
  {
   "cell_type": "markdown",
   "id": "4fc61bf2-9000-4c66-b84d-ef0adcbaf4dd",
   "metadata": {},
   "source": [
    "## Get data from the hub-api"
   ]
  },
  {
   "cell_type": "code",
   "execution_count": null,
   "id": "87b7ed29-3163-4b6e-91b9-02494a63d181",
   "metadata": {},
   "outputs": [],
   "source": [
    "import os\n",
    "import requests\n",
    "\n",
    "url = 'https://api.hub.coda19.com/stats/summarize?sites=115'\n",
    "token = os.environ['OAUTH_TOKEN'] # Note: token has a lifespan of 4 hours. After which the notebook server must be stopped (File/Hub Control Pannel) and a login must be redone.\n",
    "header = {\n",
    "    \"Authorization\": f'Bearer {token}'\n",
    "}\n",
    "\n",
    "body = {\n",
    "    \"selectors\": [\n",
    "        {\n",
    "            \"resource\": \"Observation\",\n",
    "            \"filters\": [\n",
    "                {\n",
    "                    \"path\": \"code.coding.code\",\n",
    "                    \"operator\": \"is\",\n",
    "                    \"value\": \"94500-6\"\n",
    "                },\n",
    "                { \n",
    "                    \"path\": \"interpretation.coding.display\",\n",
    "                    \"operator\": \"is\",\n",
    "                    \"value\": \"positive\"\n",
    "                },\n",
    "                {\n",
    "                    \"path\": \"issued\",\n",
    "                    \"operator\": \"afterOrOn\",\n",
    "                    \"value\": \"2021-01-01\"\n",
    "                },\n",
    "                {\n",
    "                    \"path\": \"issued\",\n",
    "                    \"operator\": \"before\",\n",
    "                    \"value\": \"2021-04-06\"\n",
    "                }\n",
    "            ],\n",
    "            \"fields\": [],\n",
    "            \"breakdown\": {\n",
    "                \"resource\": {\n",
    "                    \"type\": \"Observation\",\n",
    "                    \"field\": \"issued\"\n",
    "                },\n",
    "                \"slices\": {\n",
    "                    \"step\": 86400,\n",
    "                    \"min\": \"2021-01-01\",\n",
    "                    \"max\": \"2021-04-06\"\n",
    "                }\n",
    "            }\n",
    "        }\n",
    "    ],\n",
    "    \"options\": {\n",
    "        \"measures\": {\n",
    "            \"continuous\": [],\n",
    "            \"categorical\": [\n",
    "                \"count\"\n",
    "            ]\n",
    "        }\n",
    "    }\n",
    "}\n",
    "\n",
    "# This request takes some time, so be patient before executing next cells and wait for the done output\n",
    "result = requests.get(url=url, headers=header, json=body).json()\n",
    "print('done')"
   ]
  },
  {
   "cell_type": "markdown",
   "id": "beac533e-89fc-4904-8711-ba72f10cee40",
   "metadata": {},
   "source": [
    "## Visualize results"
   ]
  },
  {
   "cell_type": "code",
   "execution_count": null,
   "id": "fbf5b478-1b6e-4ad3-bde1-70fca4c9daf5",
   "metadata": {},
   "outputs": [],
   "source": [
    "!pip install pandas matplotlib # For minimal notebook only"
   ]
  },
  {
   "cell_type": "code",
   "execution_count": 46,
   "id": "e89287bc-a5ab-4d09-b33b-70be231c846d",
   "metadata": {},
   "outputs": [
    {
     "data": {
      "text/html": [
       "<div>\n",
       "<style scoped>\n",
       "    .dataframe tbody tr th:only-of-type {\n",
       "        vertical-align: middle;\n",
       "    }\n",
       "\n",
       "    .dataframe tbody tr th {\n",
       "        vertical-align: top;\n",
       "    }\n",
       "\n",
       "    .dataframe thead th {\n",
       "        text-align: right;\n",
       "    }\n",
       "</style>\n",
       "<table border=\"1\" class=\"dataframe\">\n",
       "  <thead>\n",
       "    <tr style=\"text-align: right;\">\n",
       "      <th></th>\n",
       "      <th>periodStart</th>\n",
       "      <th>periodCount</th>\n",
       "    </tr>\n",
       "  </thead>\n",
       "  <tbody>\n",
       "    <tr>\n",
       "      <th>0</th>\n",
       "      <td>2021-01-01 00:00:00+00:00</td>\n",
       "      <td>1465</td>\n",
       "    </tr>\n",
       "    <tr>\n",
       "      <th>1</th>\n",
       "      <td>2021-01-10 00:00:00+00:00</td>\n",
       "      <td>1072</td>\n",
       "    </tr>\n",
       "    <tr>\n",
       "      <th>2</th>\n",
       "      <td>2021-01-19 00:00:00+00:00</td>\n",
       "      <td>686</td>\n",
       "    </tr>\n",
       "    <tr>\n",
       "      <th>3</th>\n",
       "      <td>2021-01-28 00:00:00+00:00</td>\n",
       "      <td>469</td>\n",
       "    </tr>\n",
       "    <tr>\n",
       "      <th>4</th>\n",
       "      <td>2021-02-06 00:00:00+00:00</td>\n",
       "      <td>333</td>\n",
       "    </tr>\n",
       "    <tr>\n",
       "      <th>5</th>\n",
       "      <td>2021-02-15 00:00:00+00:00</td>\n",
       "      <td>277</td>\n",
       "    </tr>\n",
       "    <tr>\n",
       "      <th>6</th>\n",
       "      <td>2021-02-24 00:00:00+00:00</td>\n",
       "      <td>336</td>\n",
       "    </tr>\n",
       "    <tr>\n",
       "      <th>7</th>\n",
       "      <td>2021-03-05 00:00:00+00:00</td>\n",
       "      <td>344</td>\n",
       "    </tr>\n",
       "    <tr>\n",
       "      <th>8</th>\n",
       "      <td>2021-03-14 00:00:00+00:00</td>\n",
       "      <td>435</td>\n",
       "    </tr>\n",
       "    <tr>\n",
       "      <th>9</th>\n",
       "      <td>2021-03-23 00:00:00+00:00</td>\n",
       "      <td>1439</td>\n",
       "    </tr>\n",
       "    <tr>\n",
       "      <th>10</th>\n",
       "      <td>2021-04-01 00:00:00+00:00</td>\n",
       "      <td>1393</td>\n",
       "    </tr>\n",
       "  </tbody>\n",
       "</table>\n",
       "</div>"
      ],
      "text/plain": [
       "                 periodStart  periodCount\n",
       "0  2021-01-01 00:00:00+00:00         1465\n",
       "1  2021-01-10 00:00:00+00:00         1072\n",
       "2  2021-01-19 00:00:00+00:00          686\n",
       "3  2021-01-28 00:00:00+00:00          469\n",
       "4  2021-02-06 00:00:00+00:00          333\n",
       "5  2021-02-15 00:00:00+00:00          277\n",
       "6  2021-02-24 00:00:00+00:00          336\n",
       "7  2021-03-05 00:00:00+00:00          344\n",
       "8  2021-03-14 00:00:00+00:00          435\n",
       "9  2021-03-23 00:00:00+00:00         1439\n",
       "10 2021-04-01 00:00:00+00:00         1393"
      ]
     },
     "execution_count": 46,
     "metadata": {},
     "output_type": "execute_result"
    }
   ],
   "source": [
    "import pandas as pd\n",
    "import numpy as np\n",
    "from dateutil import parser\n",
    "\n",
    "import matplotlib.pyplot as plt\n",
    "from matplotlib import dates as mpl_dates\n",
    "\n",
    "breakdowns = result[0][0]['breakdown']['result']\n",
    "grouped_breakdowns = []\n",
    "\n",
    "group_size = 9\n",
    "\n",
    "for cur_group_index in range(0, len(breakdowns), group_size):\n",
    "    group_end_index = min(cur_group_index + group_size, len(breakdowns))\n",
    "    \n",
    "    group_initial_period = breakdowns[cur_group_index]\n",
    "    period = {\n",
    "        'periodStart': parser.parse(group_initial_period['periodStart']),\n",
    "        'periodCount': 0\n",
    "    }\n",
    "    \n",
    "    grouped_breakdowns.append(period)\n",
    "    \n",
    "    for cur_item in range(cur_group_index, group_end_index):\n",
    "        cur_period = breakdowns[cur_item]\n",
    "        period['periodCount'] += cur_period['periodCount']\n",
    "        \n",
    "\n",
    "df = pd.DataFrame.from_dict(grouped_breakdowns)\n",
    "\n",
    "# Show the data\n",
    "df"
   ]
  },
  {
   "cell_type": "code",
   "execution_count": 47,
   "id": "fa2966da-1e5c-4216-af13-a3e22841c011",
   "metadata": {},
   "outputs": [
    {
     "data": {
      "image/png": "[encoded data removed]",
      "text/plain": [
       "<Figure size 432x288 with 1 Axes>"
      ]
     },
     "metadata": {
      "needs_background": "light"
     },
     "output_type": "display_data"
    }
   ],
   "source": [
    "# Visualize the data\n",
    "plt.plot_date(df.periodStart, df.periodCount, linestyle ='solid')\n",
    "plt.tight_layout()\n",
    "\n",
    "plt.gcf().autofmt_xdate()\n",
    "date_format = mpl_dates.DateFormatter('%Y-%m-%d')\n",
    "plt.gca().xaxis.set_major_formatter(date_format)\n",
    "plt.show()"
   ]
  },
  {
   "cell_type": "code",
   "execution_count": null,
   "id": "98709a4f-0f58-4737-8bfd-d0bf77f7e4b9",
   "metadata": {},
   "outputs": [],
   "source": []
  }
 ],
 "metadata": {
  "kernelspec": {
   "display_name": "Python 3",
   "language": "python",
   "name": "python3"
  },
  "language_info": {
   "codemirror_mode": {
    "name": "ipython",
    "version": 3
   },
   "file_extension": ".py",
   "mimetype": "text/x-python",
   "name": "python",
   "nbconvert_exporter": "python",
   "pygments_lexer": "ipython3",
   "version": "3.6.9"
  }
 },
 "nbformat": 4,
 "nbformat_minor": 5
}
